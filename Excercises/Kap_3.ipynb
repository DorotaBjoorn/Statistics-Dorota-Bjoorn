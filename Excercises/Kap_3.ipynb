{
 "cells": [
  {
   "cell_type": "code",
   "execution_count": 2,
   "metadata": {},
   "outputs": [],
   "source": [
    "import numpy\n",
    "import matplotlib.pyplot as plt\n",
    "from scipy.stats import binom"
   ]
  },
  {
   "cell_type": "code",
   "execution_count": 11,
   "metadata": {},
   "outputs": [
    {
     "name": "stdout",
     "output_type": "stream",
     "text": [
      "Mean = 2.4\n",
      "Variance = 1.68\n",
      "SD = 1.296148139681572\n",
      "P(X <= 2) = 0.5517738100000001\n"
     ]
    }
   ],
   "source": [
    "# 3.2\n",
    "\n",
    "n = 8\n",
    "p = 0.3\n",
    "\n",
    "mean, var = binom.stats(n=n, p=p)\n",
    "print(f'Mean = {mean}')\n",
    "print(f'Variance = {var}')\n",
    "\n",
    "sd = numpy.sqrt(var)\n",
    "print(f'SD = {sd}')\n",
    "\n",
    "result = binom.cdf(k=2, n=n, p=p)\n",
    "print(f'P(X <= 2) = {result}')\n"
   ]
  },
  {
   "cell_type": "code",
   "execution_count": 15,
   "metadata": {},
   "outputs": [
    {
     "name": "stdout",
     "output_type": "stream",
     "text": [
      "Mean = 5.0\n",
      "P(X <= 3) = 0.2578386591160163\n"
     ]
    }
   ],
   "source": [
    "# 3.4\n",
    "\n",
    "n = 100\n",
    "p = 0.05\n",
    "\n",
    "mean, var = binom.stats(n=n, p=p)\n",
    "print(f'Mean = {mean}')\n",
    "\n",
    "result = binom.cdf(k=3, n=n, p=p)\n",
    "print(f'P(X <= 3) = {result}')"
   ]
  }
 ],
 "metadata": {
  "kernelspec": {
   "display_name": "Statistics-Dorota-Bjoorn-0jCGml77",
   "language": "python",
   "name": "python3"
  },
  "language_info": {
   "codemirror_mode": {
    "name": "ipython",
    "version": 3
   },
   "file_extension": ".py",
   "mimetype": "text/x-python",
   "name": "python",
   "nbconvert_exporter": "python",
   "pygments_lexer": "ipython3",
   "version": "3.9.13"
  },
  "orig_nbformat": 4,
  "vscode": {
   "interpreter": {
    "hash": "1af2b1229665672e6d5fe549a58b2ddcd4de14e898d6c0f906bad1e2de8107c1"
   }
  }
 },
 "nbformat": 4,
 "nbformat_minor": 2
}
