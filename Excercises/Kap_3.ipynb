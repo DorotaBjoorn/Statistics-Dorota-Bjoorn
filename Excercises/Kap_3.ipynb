{
 "cells": [
  {
   "cell_type": "code",
   "execution_count": 31,
   "metadata": {},
   "outputs": [],
   "source": [
    "import numpy\n",
    "import matplotlib.pyplot as plt\n",
    "from scipy.stats import binom, hypergeom, geom, nbinom"
   ]
  },
  {
   "cell_type": "code",
   "execution_count": 18,
   "metadata": {},
   "outputs": [
    {
     "name": "stdout",
     "output_type": "stream",
     "text": [
      "Mean = 2.4\n",
      "Variance = 1.68\n",
      "SD = 1.296148139681572\n",
      "P(X <= 2) = 0.5517738100000001\n"
     ]
    }
   ],
   "source": [
    "# 3.2\n",
    "\n",
    "n = 8\n",
    "p = 0.3\n",
    "\n",
    "mean, var = binom.stats(n=n, p=p)\n",
    "print(f'Mean = {mean}')\n",
    "print(f'Variance = {var}')\n",
    "\n",
    "sd = numpy.sqrt(var)\n",
    "print(f'SD = {sd}')\n",
    "\n",
    "prob = binom.cdf(k=2, n=n, p=p)\n",
    "print(f'P(X <= 2) = {prob}')\n"
   ]
  },
  {
   "cell_type": "code",
   "execution_count": 17,
   "metadata": {},
   "outputs": [
    {
     "name": "stdout",
     "output_type": "stream",
     "text": [
      "Mean = 5.0\n",
      "P(X <= 3) = 0.2578386591160163\n"
     ]
    }
   ],
   "source": [
    "# 3.4\n",
    "\n",
    "n = 100\n",
    "p = 0.05\n",
    "\n",
    "mean, var = binom.stats(n=n, p=p)\n",
    "print(f'Mean = {mean}')\n",
    "\n",
    "prob = binom.cdf(k=3, n=n, p=p)\n",
    "print(f'P(X <= 3) = {prob}')"
   ]
  },
  {
   "cell_type": "code",
   "execution_count": 21,
   "metadata": {},
   "outputs": [
    {
     "name": "stdout",
     "output_type": "stream",
     "text": [
      "Mean = 2.0\n",
      "Variance = 0.9473684210526315\n",
      "SD = 0.9733285267845752\n",
      "P(1 <= X <= 3) = 0.891124871001032\n"
     ]
    }
   ],
   "source": [
    "# 3.7\n",
    "\n",
    "[M, n, N] = [20, 5, 8]\n",
    "\n",
    "mean, var = hypergeom.stats(M=M, n=n, N=N)\n",
    "print(f'Mean = {mean}')\n",
    "print(f'Variance = {var}')\n",
    "\n",
    "sd = numpy.sqrt(var)\n",
    "print(f'SD = {sd}')\n",
    "\n",
    "prob = hypergeom.cdf(k=3, M=M, n=n, N=N ) - hypergeom.pmf(k=0, M=M, n=n, N=N )\n",
    "print(f'P(1 <= X <= 3) = {prob}')"
   ]
  },
  {
   "cell_type": "code",
   "execution_count": null,
   "metadata": {},
   "outputs": [],
   "source": [
    "# 3.22 c ?????????????? Hur göra i python för att få fram µ givet P(X)???????????????????\n",
    "# ppf invers till cdf"
   ]
  },
  {
   "cell_type": "code",
   "execution_count": 30,
   "metadata": {},
   "outputs": [
    {
     "name": "stdout",
     "output_type": "stream",
     "text": [
      "P(X=2) = 0.2016\n",
      "P(X<=4) = 0.99385344\n",
      "P(X>=4) = 0.02195199999999997\n"
     ]
    }
   ],
   "source": [
    "# 3.26\n",
    "\n",
    "p = 0.72\n",
    "\n",
    "prob_eq_2 = geom.pmf(k=2, p=p)\n",
    "print(f'P(X=2) = {prob_eq_2}')\n",
    "\n",
    "prob_le_4 = geom.cdf(k=4, p=p)\n",
    "print(f'P(X<=4) = {prob_le_4}')\n",
    "\n",
    "prob_ge_4 = 1 - geom.cdf(k=3, p=p)\n",
    "print(f'P(X>=4) = {prob_ge_4}')"
   ]
  },
  {
   "cell_type": "code",
   "execution_count": 45,
   "metadata": {},
   "outputs": [
    {
     "name": "stdout",
     "output_type": "stream",
     "text": [
      "P(X=3) = 0.12799999999999997\n",
      "P(X<=2) = 0.3600000000000001\n",
      "P(X>=5) = 0.40959999999999996\n"
     ]
    }
   ],
   "source": [
    "# 3.28\n",
    "\n",
    "n = 1           # nuber of successfull outcomes (Lanz - s)\n",
    "p = 0.2         # probablilty of succesfull outcome\n",
    "\n",
    "#loc since SciPy uses P(#fails, #successes, prob for success) so can write k=3-n <=> k=3-loc <=> loc=n \n",
    "# https://en.wikipedia.org/wiki/Negative_binomial_distribution: Alternative formulations : 1 is SciPy, 2 is Lanz\n",
    "prob_eq_3 = nbinom.pmf(k=3, n=n, p=p, loc = n)  \n",
    "print(f'P(X=3) = {prob_eq_3}')\n",
    "\n",
    "prob_le_2 = nbinom.cdf(k=2, n=n, p=p, loc = n)\n",
    "print(f'P(X<=2) = {prob_le_2}')\n",
    "\n",
    "prob_ge_5 = 1 - nbinom.cdf(k=4, n=n, p=p, loc = n)\n",
    "print(f'P(X>=5) = {prob_ge_5}')"
   ]
  }
 ],
 "metadata": {
  "kernelspec": {
   "display_name": "Statistics-Dorota-Bjoorn-0jCGml77",
   "language": "python",
   "name": "python3"
  },
  "language_info": {
   "codemirror_mode": {
    "name": "ipython",
    "version": 3
   },
   "file_extension": ".py",
   "mimetype": "text/x-python",
   "name": "python",
   "nbconvert_exporter": "python",
   "pygments_lexer": "ipython3",
   "version": "3.9.13"
  },
  "orig_nbformat": 4,
  "vscode": {
   "interpreter": {
    "hash": "1af2b1229665672e6d5fe549a58b2ddcd4de14e898d6c0f906bad1e2de8107c1"
   }
  }
 },
 "nbformat": 4,
 "nbformat_minor": 2
}
