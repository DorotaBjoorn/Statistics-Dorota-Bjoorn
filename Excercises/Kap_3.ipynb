{
 "cells": [
  {
   "cell_type": "code",
   "execution_count": 16,
   "metadata": {},
   "outputs": [],
   "source": [
    "import numpy\n",
    "import matplotlib.pyplot as plt\n",
    "from scipy.stats import binom, hypergeom"
   ]
  },
  {
   "cell_type": "code",
   "execution_count": 18,
   "metadata": {},
   "outputs": [
    {
     "name": "stdout",
     "output_type": "stream",
     "text": [
      "Mean = 2.4\n",
      "Variance = 1.68\n",
      "SD = 1.296148139681572\n",
      "P(X <= 2) = 0.5517738100000001\n"
     ]
    }
   ],
   "source": [
    "# 3.2\n",
    "\n",
    "n = 8\n",
    "p = 0.3\n",
    "\n",
    "mean, var = binom.stats(n=n, p=p)\n",
    "print(f'Mean = {mean}')\n",
    "print(f'Variance = {var}')\n",
    "\n",
    "sd = numpy.sqrt(var)\n",
    "print(f'SD = {sd}')\n",
    "\n",
    "prob = binom.cdf(k=2, n=n, p=p)\n",
    "print(f'P(X <= 2) = {prob}')\n"
   ]
  },
  {
   "cell_type": "code",
   "execution_count": 17,
   "metadata": {},
   "outputs": [
    {
     "name": "stdout",
     "output_type": "stream",
     "text": [
      "Mean = 5.0\n",
      "P(X <= 3) = 0.2578386591160163\n"
     ]
    }
   ],
   "source": [
    "# 3.4\n",
    "\n",
    "n = 100\n",
    "p = 0.05\n",
    "\n",
    "mean, var = binom.stats(n=n, p=p)\n",
    "print(f'Mean = {mean}')\n",
    "\n",
    "prob = binom.cdf(k=3, n=n, p=p)\n",
    "print(f'P(X <= 3) = {prob}')"
   ]
  },
  {
   "cell_type": "code",
   "execution_count": 21,
   "metadata": {},
   "outputs": [
    {
     "name": "stdout",
     "output_type": "stream",
     "text": [
      "Mean = 2.0\n",
      "Variance = 0.9473684210526315\n",
      "SD = 0.9733285267845752\n",
      "P(1 <= X <= 3) = 0.891124871001032\n"
     ]
    }
   ],
   "source": [
    "# 3.7\n",
    "\n",
    "[M, n, N] = [20, 5, 8]\n",
    "\n",
    "mean, var = hypergeom.stats(M=M, n=n, N=N)\n",
    "print(f'Mean = {mean}')\n",
    "print(f'Variance = {var}')\n",
    "\n",
    "sd = numpy.sqrt(var)\n",
    "print(f'SD = {sd}')\n",
    "\n",
    "prob = hypergeom.cdf(k=3, M=M, n=n, N=N ) - hypergeom.pmf(k=0, M=M, n=n, N=N )\n",
    "print(f'P(1 <= X <= 3) = {prob}')"
   ]
  }
 ],
 "metadata": {
  "kernelspec": {
   "display_name": "Statistics-Dorota-Bjoorn-0jCGml77",
   "language": "python",
   "name": "python3"
  },
  "language_info": {
   "codemirror_mode": {
    "name": "ipython",
    "version": 3
   },
   "file_extension": ".py",
   "mimetype": "text/x-python",
   "name": "python",
   "nbconvert_exporter": "python",
   "pygments_lexer": "ipython3",
   "version": "3.9.13"
  },
  "orig_nbformat": 4,
  "vscode": {
   "interpreter": {
    "hash": "1af2b1229665672e6d5fe549a58b2ddcd4de14e898d6c0f906bad1e2de8107c1"
   }
  }
 },
 "nbformat": 4,
 "nbformat_minor": 2
}
