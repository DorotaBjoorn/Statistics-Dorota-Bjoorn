{
 "cells": [
  {
   "cell_type": "code",
   "execution_count": 22,
   "metadata": {},
   "outputs": [],
   "source": [
    "import numpy as np\n",
    "import matplotlib.pyplot as plt\n",
    "from scipy.stats import norm"
   ]
  },
  {
   "cell_type": "code",
   "execution_count": 23,
   "metadata": {},
   "outputs": [
    {
     "name": "stdout",
     "output_type": "stream",
     "text": [
      "Probability is 0.2266\n"
     ]
    }
   ],
   "source": [
    "# 5.8\n",
    "\n",
    "loc = 240   # µ\n",
    "sigma = 32  # sigma\n",
    "n = 64      # sample size\n",
    "sem = sigma/np.sqrt(n)  #standard error of the mean\n",
    "\n",
    "#antaget normalfördelning då n >30, scale=sigma hade antagit hela populationen, scale=sem ger scale för stickprovet\n",
    "prob = 1 - norm.cdf(x=243, loc=loc, scale=sem)\n",
    "print(f'Probability is {prob:.4f}')"
   ]
  },
  {
   "cell_type": "code",
   "execution_count": 24,
   "metadata": {},
   "outputs": [
    {
     "name": "stdout",
     "output_type": "stream",
     "text": [
      "Probability is 0.2266\n"
     ]
    }
   ],
   "source": [
    "# 5.8 snyggare alternativ\n",
    "# räknar fram ett z och tar fram P från standardnormalfördelningen med z som input\n",
    "# z=(243-240)/(32/sqrt(n))\n",
    "\n",
    "mu = 240   # µ\n",
    "sigma = 32  # sigma\n",
    "n = 64      # sample size\n",
    "x_line = 243\n",
    "\n",
    "z = (x_line - mu)/(sigma/np.sqrt(n))\n",
    "prob = 1 - norm.cdf(z)\n",
    "print(f'Probability is {prob:.4f}')\n"
   ]
  },
  {
   "cell_type": "code",
   "execution_count": 38,
   "metadata": {},
   "outputs": [
    {
     "name": "stdout",
     "output_type": "stream",
     "text": [
      "sem = 30.0, prob = 0.9772\n"
     ]
    }
   ],
   "source": [
    "# 5.14, 5.15\n",
    "\n",
    "mu = 900   # µ, x_line\n",
    "sigma = 300  # sigma\n",
    "n = 100      # sample size\n",
    "sem = sigma/np.sqrt(n)  #standard error of the mean\n",
    "\n",
    "\n",
    "prob = 1 - norm.cdf(x=840, loc=mu, scale=sem)\n",
    "\n",
    "print(f'{sem = }, {prob = :.4f}')\n"
   ]
  },
  {
   "cell_type": "code",
   "execution_count": 45,
   "metadata": {},
   "outputs": [
    {
     "name": "stdout",
     "output_type": "stream",
     "text": [
      "p = 0.42, std = 0.0552, prob = 0.1023\n"
     ]
    }
   ],
   "source": [
    "# 5.18, 5.19\n",
    "\n",
    "# Normalfördelningsapproximation\n",
    "\n",
    "p = 0.42   # p_hat, µ\n",
    "n = 80     # sample size\n",
    "prob = 0.35      # maximala stickprovsproportionen\n",
    "\n",
    "std = np.sqrt(p*(1-p)/n)\n",
    "prob = norm.cdf(x=0.35, loc = p, scale =std) # std som scale eftersom ett stickprov och en proportioin\n",
    "print(f'{p = }, {std = :.4f}, {prob = :.4f}')"
   ]
  }
 ],
 "metadata": {
  "kernelspec": {
   "display_name": "Statistics-Dorota-Bjoorn-0jCGml77",
   "language": "python",
   "name": "python3"
  },
  "language_info": {
   "codemirror_mode": {
    "name": "ipython",
    "version": 3
   },
   "file_extension": ".py",
   "mimetype": "text/x-python",
   "name": "python",
   "nbconvert_exporter": "python",
   "pygments_lexer": "ipython3",
   "version": "3.9.13"
  },
  "orig_nbformat": 4,
  "vscode": {
   "interpreter": {
    "hash": "1af2b1229665672e6d5fe549a58b2ddcd4de14e898d6c0f906bad1e2de8107c1"
   }
  }
 },
 "nbformat": 4,
 "nbformat_minor": 2
}
