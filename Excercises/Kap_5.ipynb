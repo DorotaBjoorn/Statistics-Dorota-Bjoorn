{
 "cells": [
  {
   "cell_type": "code",
   "execution_count": 1,
   "metadata": {},
   "outputs": [],
   "source": [
    "import numpy as np\n",
    "import matplotlib.pyplot as plt\n",
    "from scipy.stats import norm"
   ]
  },
  {
   "cell_type": "code",
   "execution_count": 2,
   "metadata": {},
   "outputs": [
    {
     "name": "stdout",
     "output_type": "stream",
     "text": [
      "Probability is 0.4627\n"
     ]
    }
   ],
   "source": [
    "# 5.8\n",
    "#?????????????? hur räkna så att scipy försår att det är en samplemean x och inte en slumpvariabel x. Hur får in samplesize???????????\n",
    "\n",
    "loc = 240   # µ\n",
    "scale = 32  # sigma\n",
    "n = 64      # sample size\n",
    "\n",
    "prob = 1 - norm.cdf(x=243, loc=loc, scale=scale)\n",
    "print(f'Probability is {prob:.4f}')"
   ]
  },
  {
   "cell_type": "code",
   "execution_count": null,
   "metadata": {},
   "outputs": [],
   "source": [
    "# 5.9\n",
    "# ?????????????? samma fråga som för 5.8 ?????????????????"
   ]
  },
  {
   "cell_type": "code",
   "execution_count": null,
   "metadata": {},
   "outputs": [],
   "source": [
    "# 5.14, 5.15\n",
    "# ?????????????? samma fråga som 5.8 ???????????????\n",
    "\n",
    "loc = 900   # µ\n",
    "scale = 300  # sigma\n",
    "n = 100      # sample size\n",
    "\n"
   ]
  },
  {
   "cell_type": "code",
   "execution_count": null,
   "metadata": {},
   "outputs": [],
   "source": [
    "# 5.18, 5.19\n",
    "# ??????????????? Hur räkna på sample från annan populationsdistribution????????????\n",
    "\n",
    "# loc = 0.42   # p\n",
    "# n = 100      # sample size"
   ]
  }
 ],
 "metadata": {
  "kernelspec": {
   "display_name": "Statistics-Dorota-Bjoorn-0jCGml77",
   "language": "python",
   "name": "python3"
  },
  "language_info": {
   "codemirror_mode": {
    "name": "ipython",
    "version": 3
   },
   "file_extension": ".py",
   "mimetype": "text/x-python",
   "name": "python",
   "nbconvert_exporter": "python",
   "pygments_lexer": "ipython3",
   "version": "3.9.13"
  },
  "orig_nbformat": 4,
  "vscode": {
   "interpreter": {
    "hash": "1af2b1229665672e6d5fe549a58b2ddcd4de14e898d6c0f906bad1e2de8107c1"
   }
  }
 },
 "nbformat": 4,
 "nbformat_minor": 2
}
