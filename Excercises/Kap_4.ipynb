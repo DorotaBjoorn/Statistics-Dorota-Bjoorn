{
 "cells": [
  {
   "cell_type": "code",
   "execution_count": 1,
   "metadata": {},
   "outputs": [],
   "source": [
    "import numpy as np\n",
    "import matplotlib.pyplot as plt\n",
    "from scipy.stats import expon\n",
    "from scipy.stats import norm"
   ]
  },
  {
   "cell_type": "code",
   "execution_count": 5,
   "metadata": {},
   "outputs": [
    {
     "name": "stdout",
     "output_type": "stream",
     "text": [
      "Probability is 0.29115968678834636\n"
     ]
    }
   ],
   "source": [
    "# 4.2\n",
    "prob = norm.cdf(-0.55)\n",
    "print(f'Probability is {prob}')"
   ]
  },
  {
   "cell_type": "code",
   "execution_count": 7,
   "metadata": {},
   "outputs": [
    {
     "name": "stdout",
     "output_type": "stream",
     "text": [
      "Probability is 0.8907\n"
     ]
    }
   ],
   "source": [
    "# 4.5\n",
    "prob = 1 - norm.cdf(-1.23)\n",
    "print(f'Probability is {prob:.4f}')"
   ]
  },
  {
   "cell_type": "code",
   "execution_count": 10,
   "metadata": {},
   "outputs": [
    {
     "name": "stdout",
     "output_type": "stream",
     "text": [
      "z = 1.08\n"
     ]
    }
   ],
   "source": [
    "# 4.15\n",
    "z = norm.ppf(0.86)\n",
    "print (f'z = {z:.2f}')"
   ]
  },
  {
   "cell_type": "code",
   "execution_count": 11,
   "metadata": {},
   "outputs": [
    {
     "name": "stdout",
     "output_type": "stream",
     "text": [
      "z = -2.33\n"
     ]
    }
   ],
   "source": [
    "# 4.15\n",
    "z = norm.ppf(0.01)\n",
    "print (f'z = {z:.2f}')"
   ]
  },
  {
   "cell_type": "code",
   "execution_count": 14,
   "metadata": {},
   "outputs": [],
   "source": [
    "# 4.18\n",
    "#??????????? hur räkna fram z med ppf om det är ett itervall?????????\n",
    "#P(Z<z) - P(Z<-z) = 0.99"
   ]
  },
  {
   "cell_type": "code",
   "execution_count": 15,
   "metadata": {},
   "outputs": [
    {
     "name": "stdout",
     "output_type": "stream",
     "text": [
      "Probability is 0.2743\n"
     ]
    }
   ],
   "source": [
    "# 4.19\n",
    "loc = 32    # µ\n",
    "scale = 5   # sigma\n",
    "\n",
    "prob = 1 - norm.cdf(x=35, loc=loc, scale=scale)\n",
    "print(f'Probability is {prob:.4f}')"
   ]
  },
  {
   "cell_type": "code",
   "execution_count": 17,
   "metadata": {},
   "outputs": [
    {
     "name": "stdout",
     "output_type": "stream",
     "text": [
      "Probability is 0.6295\n"
     ]
    }
   ],
   "source": [
    "# 4.23\n",
    "#????????????????? facit ger 0.6315 ???????????????? (avrudningsfel men korrekt räknat)\n",
    "loc = 596\n",
    "scale = 81\n",
    "\n",
    "prob = norm.cdf(x=650, loc=loc, scale=scale) - norm.cdf(x=500, loc=loc, scale=scale)\n",
    "print(f'Probability is {prob:.4f}')"
   ]
  },
  {
   "cell_type": "code",
   "execution_count": 26,
   "metadata": {},
   "outputs": [
    {
     "name": "stdout",
     "output_type": "stream",
     "text": [
      "Amount of fruit needed is 928 kg\n"
     ]
    }
   ],
   "source": [
    "# 4.26\n",
    "\n",
    "loc = 800\n",
    "scale = 100\n",
    "\n",
    "min_amount_fruit = norm.ppf(.9, loc = loc, scale = scale)\n",
    "print(f'Amount of fruit needed is {min_amount_fruit:.0f} kg')"
   ]
  },
  {
   "cell_type": "code",
   "execution_count": 20,
   "metadata": {},
   "outputs": [
    {
     "name": "stdout",
     "output_type": "stream",
     "text": [
      "Probability is 0.3126\n"
     ]
    }
   ],
   "source": [
    "# 4.36\n",
    "\n",
    "mu = 0.86\n",
    "prob = 1 - expon.cdf(x=1, scale = mu) #OBS använd scale \n",
    "print(f'Probability is {prob:.4f}')"
   ]
  }
 ],
 "metadata": {
  "kernelspec": {
   "display_name": "Statistics-Dorota-Bjoorn-0jCGml77",
   "language": "python",
   "name": "python3"
  },
  "language_info": {
   "codemirror_mode": {
    "name": "ipython",
    "version": 3
   },
   "file_extension": ".py",
   "mimetype": "text/x-python",
   "name": "python",
   "nbconvert_exporter": "python",
   "pygments_lexer": "ipython3",
   "version": "3.9.13 (tags/v3.9.13:6de2ca5, May 17 2022, 16:36:42) [MSC v.1929 64 bit (AMD64)]"
  },
  "orig_nbformat": 4,
  "vscode": {
   "interpreter": {
    "hash": "1af2b1229665672e6d5fe549a58b2ddcd4de14e898d6c0f906bad1e2de8107c1"
   }
  }
 },
 "nbformat": 4,
 "nbformat_minor": 2
}
