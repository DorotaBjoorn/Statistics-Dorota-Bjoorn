{
 "cells": [
  {
   "attachments": {},
   "cell_type": "markdown",
   "metadata": {},
   "source": [
    "Vanliga funktioner\n",
    "- ttest_ind()"
   ]
  },
  {
   "cell_type": "code",
   "execution_count": 31,
   "metadata": {},
   "outputs": [],
   "source": [
    "import numpy as np\n",
    "from scipy.stats import f, ttest_ind, t"
   ]
  },
  {
   "cell_type": "code",
   "execution_count": 18,
   "metadata": {},
   "outputs": [
    {
     "name": "stdout",
     "output_type": "stream",
     "text": [
      "f_test = 0.2975, f_crit_1 = 0.4977, f_crit_2 = 2.0093\n"
     ]
    }
   ],
   "source": [
    "# 8.6\n",
    "\n",
    "s_1 = 0.6\n",
    "s_2 = 1.1\n",
    "n_1 = 30\n",
    "df_1 = n_1-1\n",
    "n_2 = 45\n",
    "df_2 = n_2-1\n",
    "x_line_1 = 37\n",
    "x_line_2 = 4.1\n",
    "alpha = 0.05\n",
    "\n",
    "# F test for difference in variances\n",
    "# H0: sigma_1 = sigma_2, HA: sigma_1 not equal to sigma_2\n",
    "f_test = s_1**2/s_2**2\n",
    "f_crit_1 = f.ppf(q = alpha/2, dfn = df_1, dfd = df_2)\n",
    "f_crit_2 = 1/f_crit_1\n",
    "\n",
    "print(f'{f_test = :.4f}, {f_crit_1 = :.4f}, {f_crit_2 = :.4f}')\n",
    "\n",
    "# f_test is not within f_crit interval thus H0 hypothesis can be rejected mening sigma_1 is not equal to sigma_2\n",
    "\n",
    "# kan inte använda ttest_ind på sample medelvärden då funktionen kräver rådata\n",
    "#t_test_result = ttest_ind(a=rådata_1, b=rådata_2, equal_var=False, alternative='two-sided') # resultatet ger t_statistica o p-värde\n",
    "#print(t_test_result)\n"
   ]
  },
  {
   "cell_type": "code",
   "execution_count": 21,
   "metadata": {},
   "outputs": [
    {
     "name": "stdout",
     "output_type": "stream",
     "text": [
      "statistic = 1.8702350621826282, pvalue = 0.041252596523698795\n",
      "pvalue < alpha, thus the diffence is significant\n"
     ]
    }
   ],
   "source": [
    "# 8.10\n",
    "\n",
    "linje_1 = np.array([29, 35, 41, 26, 29, 37, 31, 28, 32])\n",
    "linje_2 = np.array([34, 22, 19, 25, 26, 28, 35])\n",
    "alpha = 0.05\n",
    "\n",
    "statistic, pvalue = ttest_ind(a=linje_1, b=linje_2, equal_var=True, alternative='greater') # resultatet ger t_statistica o p-värde\n",
    "print(f'{statistic = }, {pvalue = }')\n",
    "\n",
    "if pvalue < alpha:\n",
    "    print(f'pvalue < alpha, thus the diffence is significant')\n",
    "else:\n",
    "    print(f'pvalue > alpha, thus H0 hypothesis stands')\n"
   ]
  },
  {
   "cell_type": "code",
   "execution_count": 28,
   "metadata": {},
   "outputs": [
    {
     "name": "stdout",
     "output_type": "stream",
     "text": [
      "f_test = 4.1088, f_crit_1 = 0.3146, f_crit_2 = 3.1789\n"
     ]
    }
   ],
   "source": [
    "# 8.11\n",
    "\n",
    "s_1 = 6750\n",
    "s_2 = 3330\n",
    "n_1 = 10\n",
    "df_1 = n_1-1\n",
    "n_2 = 10\n",
    "df_2 = n_2-1\n",
    "alpha = 0.05\n",
    "\n",
    "# F test for difference in variances\n",
    "# H0: sigma_1 = sigma_2, HA: sigma_1 not equal to sigma_2\n",
    "f_test = s_1**2/s_2**2\n",
    "f_crit = f.ppf(q = alpha/2, dfn = df_1, dfd = df_2)\n",
    "f_crit_2 = 1/f_crit_1\n",
    "\n",
    "print(f'{f_test = :.4f}, {f_crit_1 = :.4f}, {f_crit_2 = :.4f}')"
   ]
  },
  {
   "cell_type": "code",
   "execution_count": 37,
   "metadata": {},
   "outputs": [
    {
     "data": {
      "text/plain": [
       "(1.7531, 0.02377850771685852)"
      ]
     },
     "execution_count": 37,
     "metadata": {},
     "output_type": "execute_result"
    }
   ],
   "source": [
    "# 8.16\n",
    "\n",
    "t_crit = t.ppf(0.05, 15) # callucating critical t value instead of checking table\n",
    "pvalue = 1-t.cdf(2.1579,15)  #t.cdf(t_test, df), 1-cdf since H0 hypothesis tests P(ttest<tcrit) while t dis is p(Tdf>tcrit)\n",
    "f_crit, pvalue\n",
    "# f_crit smaller than f_test so HA gäller\n",
    "# pvalue smaller than alpha so HA gäller"
   ]
  },
  {
   "cell_type": "code",
   "execution_count": 46,
   "metadata": {},
   "outputs": [
    {
     "data": {
      "text/plain": [
       "(1.2, 1.8595480375228428, 0.13223355260090808)"
      ]
     },
     "execution_count": 46,
     "metadata": {},
     "output_type": "execute_result"
    }
   ],
   "source": [
    "# 8.18\n",
    "\n",
    "t_test = 1.2\n",
    "t_crit = abs(t.ppf(0.05, 8))\n",
    "pvalue = 1-t.cdf(t_test,8)\n",
    "t_test, t_crit, pvalue"
   ]
  }
 ],
 "metadata": {
  "kernelspec": {
   "display_name": "Statistics-Dorota-Bjoorn-0jCGml77",
   "language": "python",
   "name": "python3"
  },
  "language_info": {
   "codemirror_mode": {
    "name": "ipython",
    "version": 3
   },
   "file_extension": ".py",
   "mimetype": "text/x-python",
   "name": "python",
   "nbconvert_exporter": "python",
   "pygments_lexer": "ipython3",
   "version": "3.9.13"
  },
  "orig_nbformat": 4,
  "vscode": {
   "interpreter": {
    "hash": "1af2b1229665672e6d5fe549a58b2ddcd4de14e898d6c0f906bad1e2de8107c1"
   }
  }
 },
 "nbformat": 4,
 "nbformat_minor": 2
}
