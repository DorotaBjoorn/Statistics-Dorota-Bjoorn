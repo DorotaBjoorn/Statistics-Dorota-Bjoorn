{
 "cells": [
  {
   "attachments": {},
   "cell_type": "markdown",
   "metadata": {},
   "source": [
    "Vanliga funktioner:\n",
    "- scs.ztest_1samp() - känd standardavvikelse???????\n",
    "- scs.ttest_1samp() - okänd standardavvikelse\n",
    "- proportions_ztest()\n"
   ]
  },
  {
   "cell_type": "code",
   "execution_count": 1,
   "metadata": {},
   "outputs": [],
   "source": [
    "import numpy as np\n",
    "import matplotlib.pyplot as plt\n",
    "import scipy.stats as scs\n",
    "from scipy.stats import norm, t\n",
    "from statsmodels.stats import proportion, weightstats"
   ]
  },
  {
   "cell_type": "code",
   "execution_count": 7,
   "metadata": {},
   "outputs": [
    {
     "ename": "IndexError",
     "evalue": "tuple index out of range",
     "output_type": "error",
     "traceback": [
      "\u001b[1;31m---------------------------------------------------------------------------\u001b[0m",
      "\u001b[1;31mIndexError\u001b[0m                                Traceback (most recent call last)",
      "Cell \u001b[1;32mIn[7], line 10\u001b[0m\n\u001b[0;32m      7\u001b[0m x_line \u001b[39m=\u001b[39m \u001b[39m35.6\u001b[39m\n\u001b[0;32m      8\u001b[0m alpha \u001b[39m=\u001b[39m \u001b[39m0.01\u001b[39m\n\u001b[1;32m---> 10\u001b[0m result \u001b[39m=\u001b[39m weightstats\u001b[39m.\u001b[39;49mztest(x1\u001b[39m=\u001b[39;49mmu, x2\u001b[39m=\u001b[39;49m\u001b[39mNone\u001b[39;49;00m, value \u001b[39m=\u001b[39;49m x_line, alternative\u001b[39m=\u001b[39;49m\u001b[39m'\u001b[39;49m\u001b[39mlarger\u001b[39;49m\u001b[39m'\u001b[39;49m,ddof\u001b[39m=\u001b[39;49m\u001b[39m1.0\u001b[39;49m, usevar\u001b[39m=\u001b[39;49m \u001b[39m'\u001b[39;49m\u001b[39mpooled\u001b[39;49m\u001b[39m'\u001b[39;49m )\n\u001b[0;32m     12\u001b[0m \u001b[39mprint\u001b[39m(result) \u001b[39m# Printa resultatet\u001b[39;00m\n",
      "File \u001b[1;32mc:\\Users\\DorotaBjöörn-AI22GBG\\.virtualenvs\\Statistics-Dorota-Bjoorn-0jCGml77\\lib\\site-packages\\statsmodels\\stats\\weightstats.py:1542\u001b[0m, in \u001b[0;36mztest\u001b[1;34m(x1, x2, value, alternative, usevar, ddof)\u001b[0m\n\u001b[0;32m   1539\u001b[0m     \u001b[39mraise\u001b[39;00m \u001b[39mNotImplementedError\u001b[39;00m(\u001b[39m'\u001b[39m\u001b[39monly usevar=\u001b[39m\u001b[39m\"\u001b[39m\u001b[39mpooled\u001b[39m\u001b[39m\"\u001b[39m\u001b[39m is implemented\u001b[39m\u001b[39m'\u001b[39m)\n\u001b[0;32m   1541\u001b[0m x1 \u001b[39m=\u001b[39m np\u001b[39m.\u001b[39masarray(x1)\n\u001b[1;32m-> 1542\u001b[0m nobs1 \u001b[39m=\u001b[39m x1\u001b[39m.\u001b[39;49mshape[\u001b[39m0\u001b[39;49m]\n\u001b[0;32m   1543\u001b[0m x1_mean \u001b[39m=\u001b[39m x1\u001b[39m.\u001b[39mmean(\u001b[39m0\u001b[39m)\n\u001b[0;32m   1544\u001b[0m x1_var \u001b[39m=\u001b[39m x1\u001b[39m.\u001b[39mvar(\u001b[39m0\u001b[39m)\n",
      "\u001b[1;31mIndexError\u001b[0m: tuple index out of range"
     ]
    }
   ],
   "source": [
    "# 7.1\n",
    "# sigma känt så använder ztest som finns in statsmodels (kan ej använda ttest)\n",
    "\n",
    "mu = 31.2\n",
    "sigma = 8\n",
    "n = 24\n",
    "x_line = 35.6\n",
    "alpha = 0.01\n",
    "\n",
    "result = weightstats.ztest(x1=mu, x2=None, value = x_line, alternative='larger',ddof=1.0, usevar= 'pooled' )\n",
    "\n",
    "print(result) # Printa resultatet"
   ]
  },
  {
   "cell_type": "code",
   "execution_count": null,
   "metadata": {},
   "outputs": [
    {
     "data": {
      "text/plain": [
       "TtestResult(statistic=0.5353993532968577, pvalue=0.29899932181095157, df=21)"
      ]
     },
     "execution_count": 17,
     "metadata": {},
     "output_type": "execute_result"
    }
   ],
   "source": [
    "# 7.6\n",
    "#Går ej lösa i python då ttest_1sampl() kräver rådata. Generera falska data från xbar o std, men ger då olika svar för varje försök\n",
    "mu = 30\n",
    "alpha = 0.05\n",
    "n = 22\n",
    "xbar = 36.6\n",
    "std = 15.9\n",
    "\n",
    "#sample_generated = np.random.normal(xbar, std, n)\n",
    "t_test_result = scs.ttest_1samp(a=sample_generated, popmean=mu, alternative='greater') # Genomför ensidigt t-test.\n",
    "t_test_result"
   ]
  },
  {
   "cell_type": "code",
   "execution_count": 11,
   "metadata": {},
   "outputs": [
    {
     "data": {
      "text/plain": [
       "TtestResult(statistic=1.3242443839434612, pvalue=0.10613909681286184, df=11)"
      ]
     },
     "execution_count": 11,
     "metadata": {},
     "output_type": "execute_result"
    }
   ],
   "source": [
    "# 7.9\n",
    "\n",
    "data = np.array([34, 32, 25,46,77,56,45,42,42,61,34,52])\n",
    "alpha = 0.05\n",
    "mu = 40\n",
    "\n",
    "t_test_result = scs.ttest_1samp(a=data, popmean=mu, alternative='greater')\n",
    "t_test_result\n",
    "\n",
    "# can not reject H0"
   ]
  },
  {
   "cell_type": "code",
   "execution_count": 17,
   "metadata": {},
   "outputs": [
    {
     "data": {
      "text/plain": [
       "TtestResult(statistic=-1.9407243266860348, pvalue=0.0467176470096821, df=7)"
      ]
     },
     "execution_count": 17,
     "metadata": {},
     "output_type": "execute_result"
    }
   ],
   "source": [
    "# 7.13\n",
    "\n",
    "data = np.array([45,126,250,164,233,89,145,172])\n",
    "alpha = 0.01\n",
    "mu = 200\n",
    "\n",
    "t_test_result = scs.ttest_1samp(a=data, popmean=mu, alternative='less')\n",
    "t_test_result\n",
    "\n",
    "# can not reject H0 with alfpha = 0,01, but could with alpha = 0,05"
   ]
  },
  {
   "cell_type": "code",
   "execution_count": 23,
   "metadata": {},
   "outputs": [
    {
     "name": "stdout",
     "output_type": "stream",
     "text": [
      "(1.8073922282301282, 0.03535057243299148)\n"
     ]
    }
   ],
   "source": [
    "# 7.18\n",
    "#??????????? vad är prop_var och varför sätts det till p_0????????????????????\n",
    "# False så används p_hut\n",
    "\n",
    "alpha = 0.05\n",
    "p_null = 0.75\n",
    "p_hut = 67/80\n",
    "\n",
    "z_test_result = proportion.proportions_ztest(count=67, nobs=80, value=p_null, prop_var=p_null, alternative='larger') # obs prop_var is p_null\n",
    "print(z_test_result)"
   ]
  },
  {
   "cell_type": "code",
   "execution_count": 25,
   "metadata": {},
   "outputs": [
    {
     "data": {
      "text/plain": [
       "(1.0887992794669459, 0.2762424094447382)"
      ]
     },
     "execution_count": 25,
     "metadata": {},
     "output_type": "execute_result"
    }
   ],
   "source": [
    "# 7.19\n",
    "\n",
    "alpha = 0.05\n",
    "p_null = 0.4\n",
    "\n",
    "z_test_result = proportion.proportions_ztest(count= 29, nobs=62, value=p_null, prop_var=p_null, alternative='two-sided')\n",
    "z_test_result"
   ]
  },
  {
   "cell_type": "code",
   "execution_count": 26,
   "metadata": {},
   "outputs": [
    {
     "data": {
      "text/plain": [
       "(1.7253243712550148, 0.04223451612662587)"
      ]
     },
     "execution_count": 26,
     "metadata": {},
     "output_type": "execute_result"
    }
   ],
   "source": [
    "# 7.20\n",
    "\n",
    "alpha = 0.05\n",
    "p_null = 0.6\n",
    "\n",
    "z_test_result = proportion.proportions_ztest(count= 87, nobs=129, value=p_null, prop_var=p_null, alternative='larger')\n",
    "z_test_result"
   ]
  }
 ],
 "metadata": {
  "kernelspec": {
   "display_name": "Statistics-Dorota-Bjoorn-0jCGml77",
   "language": "python",
   "name": "python3"
  },
  "language_info": {
   "codemirror_mode": {
    "name": "ipython",
    "version": 3
   },
   "file_extension": ".py",
   "mimetype": "text/x-python",
   "name": "python",
   "nbconvert_exporter": "python",
   "pygments_lexer": "ipython3",
   "version": "3.9.13"
  },
  "orig_nbformat": 4,
  "vscode": {
   "interpreter": {
    "hash": "1af2b1229665672e6d5fe549a58b2ddcd4de14e898d6c0f906bad1e2de8107c1"
   }
  }
 },
 "nbformat": 4,
 "nbformat_minor": 2
}
