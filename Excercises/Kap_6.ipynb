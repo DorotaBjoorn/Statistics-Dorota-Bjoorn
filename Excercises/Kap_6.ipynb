{
 "cells": [
  {
   "attachments": {},
   "cell_type": "markdown",
   "metadata": {},
   "source": [
    "Vanliga fuktioner:\n",
    "- norm.iterval()    # scale is sem and not std\n",
    "- t.interval()      # scale is sem and not std\n",
    "- proportion_confint()"
   ]
  },
  {
   "cell_type": "code",
   "execution_count": 47,
   "metadata": {},
   "outputs": [],
   "source": [
    "import scipy.stats as scs\n",
    "import numpy as np\n",
    "from scipy.stats import t, norm\n",
    "from statsmodels.stats.proportion import proportion_confint"
   ]
  },
  {
   "cell_type": "code",
   "execution_count": 27,
   "metadata": {},
   "outputs": [
    {
     "name": "stdout",
     "output_type": "stream",
     "text": [
      "[43.02446743844316 - 50.97553256155684]\n"
     ]
    }
   ],
   "source": [
    "# 6.3\n",
    "\n",
    "alfa = 0.05\n",
    "mean = 47\n",
    "std = 12 # känt sigma normså kan använda norm.interval\n",
    "n = 35\n",
    "\n",
    "sem = std / np.sqrt(n)\n",
    "lower, upper = norm.interval(confidence=1-alfa, loc=mean, scale=sem) # scale is sem and not std\n",
    "print(f'[{lower} - {upper}]')"
   ]
  },
  {
   "cell_type": "code",
   "execution_count": 31,
   "metadata": {},
   "outputs": [
    {
     "name": "stdout",
     "output_type": "stream",
     "text": [
      "[31.0358 - 41.9642]\n"
     ]
    }
   ],
   "source": [
    "# 6.4\n",
    "\n",
    "alfa = 0.01\n",
    "n = 8\n",
    "std = 6 # känt sigma normså kan använda norm.interval\n",
    "\n",
    "mean = np.mean([35, 45, 34, 42, 37, 39, 32, 28])\n",
    "sem = std / np.sqrt(n)\n",
    "lower, upper = norm.interval(confidence=1-alfa, loc=mean, scale=sem)# scale is sem and not std\n",
    "print(f'[{lower:.4f} - {upper:.4f}]')"
   ]
  },
  {
   "cell_type": "code",
   "execution_count": 38,
   "metadata": {},
   "outputs": [
    {
     "name": "stdout",
     "output_type": "stream",
     "text": [
      "[13.3636 - 16.6364]\n",
      "[12.7058 - 17.2942]\n"
     ]
    }
   ],
   "source": [
    "# 6.5\n",
    "# std not known so using t.interval()\n",
    "\n",
    "data = np.array([15, 18, 14, 15, 14, 14, 11, 12, 19, 18, 18, 16, 11])\n",
    "alfa_95 = 0.05\n",
    "alfa_99 = 0.01\n",
    "\n",
    "mean = np.mean(data)\n",
    "n = len(data)\n",
    "sem = scs.sem(data)\n",
    "\n",
    "lower_95, upper_95 = t.interval(confidence = 1-alfa_95, df = n-1, loc = mean, scale = sem )\n",
    "print(f'[{lower_95:.4f} - {upper_95:.4f}]')\n",
    "\n",
    "lower_99, upper_99 = t.interval(confidence = 1-alfa_99, df = n-1, loc = mean, scale = sem )\n",
    "print(f'[{lower_99:.4f} - {upper_99:.4f}]')"
   ]
  },
  {
   "cell_type": "code",
   "execution_count": 42,
   "metadata": {},
   "outputs": [
    {
     "name": "stdout",
     "output_type": "stream",
     "text": [
      "282.6666666666667\n",
      "[138.4851 - 426.8482]\n"
     ]
    }
   ],
   "source": [
    "# 6.6\n",
    "\n",
    "data = np.array([124, 432, 349, 295, 266, 230])\n",
    "alfa = 0.02\n",
    "\n",
    "n = len(data)\n",
    "mean = np.mean(data)\n",
    "sem = scs.sem(data)\n",
    "\n",
    "lower, upper = t.interval(confidence=1-alfa, df = n-1, loc = mean, scale = sem)\n",
    "\n",
    "print(mean)\n",
    "print(f'[{lower:.4f} - {upper:.4f}]')"
   ]
  },
  {
   "cell_type": "code",
   "execution_count": 49,
   "metadata": {},
   "outputs": [
    {
     "name": "stdout",
     "output_type": "stream",
     "text": [
      "[0.060046 - 0.095954]\n"
     ]
    }
   ],
   "source": [
    "# 6.10\n",
    "\n",
    "lower, upper = proportion_confint(0.078*857, 857, 0.05, method = 'normal')\n",
    "print(f'[{lower:.6f} - {upper:.6f}]')"
   ]
  },
  {
   "cell_type": "code",
   "execution_count": 54,
   "metadata": {},
   "outputs": [
    {
     "name": "stdout",
     "output_type": "stream",
     "text": [
      "7.0\n",
      "[3.9694 - 10.0306]\n"
     ]
    }
   ],
   "source": [
    "# 6.16\n",
    "\n",
    "data = np.array([8, 11, 3, 5, 9, 6, 7, 7])\n",
    "alfa = 0.01\n",
    "\n",
    "n = len(data)\n",
    "mean = np.mean(data)\n",
    "sem = scs.sem(data)\n",
    "\n",
    "lower, upper = t.interval(confidence=1-alfa, df= n-1, loc = mean, scale = sem)\n",
    "\n",
    "print(mean)\n",
    "print(f'[{lower:.4f} - {upper:.4f}]')\n",
    "\n",
    "\n"
   ]
  },
  {
   "cell_type": "code",
   "execution_count": 62,
   "metadata": {},
   "outputs": [
    {
     "name": "stdout",
     "output_type": "stream",
     "text": [
      "[0.2789 - 0.5782], 0.4286\n"
     ]
    }
   ],
   "source": [
    "# 6.17\n",
    "#??????????? varför blir det fel svar på konfidensintervallet????????????\n",
    "\n",
    "lower, upper = proportion_confint(18, 42, alpha = 0.05,  method = 'normal')\n",
    "punktskattning = 18/42\n",
    "print(f'[{lower:.4f} - {upper:.4f}], {punktskattning:.4f}')\n",
    "\n"
   ]
  },
  {
   "cell_type": "code",
   "execution_count": 64,
   "metadata": {},
   "outputs": [
    {
     "name": "stdout",
     "output_type": "stream",
     "text": [
      "[0.660654 - 0.739346], 0.7000\n"
     ]
    }
   ],
   "source": [
    "# 6.18\n",
    "\n",
    "lower, upper = proportion_confint(630, 900, alpha = 0.01,  method = 'normal')\n",
    "punktskattning = 630/900\n",
    "print(f'[{lower:.6f} - {upper:.6f}], {punktskattning:.4f}')"
   ]
  },
  {
   "cell_type": "code",
   "execution_count": 65,
   "metadata": {},
   "outputs": [
    {
     "name": "stdout",
     "output_type": "stream",
     "text": [
      "1970\n",
      "[1758.9095 - 2181.0905]\n"
     ]
    }
   ],
   "source": [
    " # 6.24\n",
    "\n",
    "alpha = 0.05\n",
    "mean = 1970\n",
    "n = 6\n",
    "std = 201.1467\n",
    "sem = std/np.sqrt(n)\n",
    "\n",
    "lower, upper = t.interval(confidence=1-alpha, df= n-1, loc = mean, scale = sem)\n",
    "\n",
    "print(mean)\n",
    "print(f'[{lower:.4f} - {upper:.4f}]')"
   ]
  }
 ],
 "metadata": {
  "kernelspec": {
   "display_name": "Statistics-Dorota-Bjoorn-0jCGml77",
   "language": "python",
   "name": "python3"
  },
  "language_info": {
   "codemirror_mode": {
    "name": "ipython",
    "version": 3
   },
   "file_extension": ".py",
   "mimetype": "text/x-python",
   "name": "python",
   "nbconvert_exporter": "python",
   "pygments_lexer": "ipython3",
   "version": "3.9.13"
  },
  "orig_nbformat": 4,
  "vscode": {
   "interpreter": {
    "hash": "1af2b1229665672e6d5fe549a58b2ddcd4de14e898d6c0f906bad1e2de8107c1"
   }
  }
 },
 "nbformat": 4,
 "nbformat_minor": 2
}
