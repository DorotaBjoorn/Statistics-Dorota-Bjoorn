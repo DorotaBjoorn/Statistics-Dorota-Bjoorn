{
 "cells": [
  {
   "cell_type": "code",
   "execution_count": 60,
   "metadata": {},
   "outputs": [],
   "source": [
    "# Importing necessary packages\n",
    "import numpy as np\n",
    "import pandas as pd\n",
    "import matplotlib.pyplot as plt\n",
    "import scipy.stats as scs\n",
    "import seaborn as sns\n",
    "\n",
    "from scipy.stats import t, f, ttest_ind"
   ]
  },
  {
   "cell_type": "code",
   "execution_count": 2,
   "metadata": {},
   "outputs": [],
   "source": [
    "# Importing iris dataset as a Pandas dataframe\n",
    "df = pd.read_csv('../Dataset/iris.csv')"
   ]
  },
  {
   "cell_type": "code",
   "execution_count": 3,
   "metadata": {},
   "outputs": [
    {
     "data": {
      "text/html": [
       "<div>\n",
       "<style scoped>\n",
       "    .dataframe tbody tr th:only-of-type {\n",
       "        vertical-align: middle;\n",
       "    }\n",
       "\n",
       "    .dataframe tbody tr th {\n",
       "        vertical-align: top;\n",
       "    }\n",
       "\n",
       "    .dataframe thead th {\n",
       "        text-align: right;\n",
       "    }\n",
       "</style>\n",
       "<table border=\"1\" class=\"dataframe\">\n",
       "  <thead>\n",
       "    <tr style=\"text-align: right;\">\n",
       "      <th></th>\n",
       "      <th>sepal_length</th>\n",
       "      <th>sepal_width</th>\n",
       "      <th>petal_length</th>\n",
       "      <th>petal_width</th>\n",
       "      <th>class</th>\n",
       "    </tr>\n",
       "  </thead>\n",
       "  <tbody>\n",
       "    <tr>\n",
       "      <th>0</th>\n",
       "      <td>5.1</td>\n",
       "      <td>3.5</td>\n",
       "      <td>1.4</td>\n",
       "      <td>0.2</td>\n",
       "      <td>Iris-setosa</td>\n",
       "    </tr>\n",
       "    <tr>\n",
       "      <th>1</th>\n",
       "      <td>4.9</td>\n",
       "      <td>3.0</td>\n",
       "      <td>1.4</td>\n",
       "      <td>0.2</td>\n",
       "      <td>Iris-setosa</td>\n",
       "    </tr>\n",
       "    <tr>\n",
       "      <th>2</th>\n",
       "      <td>4.7</td>\n",
       "      <td>3.2</td>\n",
       "      <td>1.3</td>\n",
       "      <td>0.2</td>\n",
       "      <td>Iris-setosa</td>\n",
       "    </tr>\n",
       "  </tbody>\n",
       "</table>\n",
       "</div>"
      ],
      "text/plain": [
       "   sepal_length   sepal_width   petal_length   petal_width        class\n",
       "0           5.1           3.5            1.4           0.2  Iris-setosa\n",
       "1           4.9           3.0            1.4           0.2  Iris-setosa\n",
       "2           4.7           3.2            1.3           0.2  Iris-setosa"
      ]
     },
     "execution_count": 3,
     "metadata": {},
     "output_type": "execute_result"
    }
   ],
   "source": [
    "# Initial visualizatin of the dataframe\n",
    "df.head(3)"
   ]
  },
  {
   "cell_type": "code",
   "execution_count": 4,
   "metadata": {},
   "outputs": [],
   "source": [
    "# renaming colmns to remove space in he beginning of series name\n",
    "df=df.rename(columns={' sepal_width':'sepal_width', ' petal_length':'petal_length', ' petal_width':'petal_width', ' class':'class'})"
   ]
  },
  {
   "cell_type": "code",
   "execution_count": 5,
   "metadata": {},
   "outputs": [
    {
     "name": "stdout",
     "output_type": "stream",
     "text": [
      "<class 'pandas.core.frame.DataFrame'>\n",
      "RangeIndex: 150 entries, 0 to 149\n",
      "Data columns (total 5 columns):\n",
      " #   Column        Non-Null Count  Dtype  \n",
      "---  ------        --------------  -----  \n",
      " 0   sepal_length  150 non-null    float64\n",
      " 1   sepal_width   150 non-null    float64\n",
      " 2   petal_length  150 non-null    float64\n",
      " 3   petal_width   150 non-null    float64\n",
      " 4   class         150 non-null    object \n",
      "dtypes: float64(4), object(1)\n",
      "memory usage: 6.0+ KB\n"
     ]
    }
   ],
   "source": [
    "# Initial check of data shows that there are 5 series, 150 entries, no NaN values.\n",
    "# Series expected to contain measurements are of type float\n",
    "# Series expected to contain text is of type object\n",
    "df.info()"
   ]
  },
  {
   "cell_type": "code",
   "execution_count": 6,
   "metadata": {},
   "outputs": [
    {
     "data": {
      "text/plain": [
       "Iris-setosa        50\n",
       "Iris-versicolor    50\n",
       "Iris-virginica     50\n",
       "Name: class, dtype: int64"
      ]
     },
     "execution_count": 6,
     "metadata": {},
     "output_type": "execute_result"
    }
   ],
   "source": [
    "# There are 3 species of iris in series 'class' with 50 entries each.\n",
    "df['class'].value_counts()"
   ]
  },
  {
   "cell_type": "code",
   "execution_count": null,
   "metadata": {},
   "outputs": [],
   "source": [
    "# Descriptive analysis of the dataframe shows for mean, standard deviation (std) and median (50%) for each data series.\n",
    "df.describe()"
   ]
  },
  {
   "cell_type": "code",
   "execution_count": null,
   "metadata": {},
   "outputs": [],
   "source": [
    "# Descriptive analysis of each species separately shows mean, standard deviation (std) and median (50%) for each data series.\n",
    "\n",
    "species_list = ['Iris-setosa', 'Iris-versicolor', 'Iris-virginica'] # list of species in dataframe\n",
    "\n",
    "for species in species_list:\n",
    "    print(f'Descriptive analysis for {species}:') # print a heading line\n",
    "    print(f\"{df[df['class'] == species].describe()}\\n\") # print result from describe() funktion on dataframe filtered for each species\n"
   ]
  },
  {
   "cell_type": "code",
   "execution_count": null,
   "metadata": {},
   "outputs": [],
   "source": [
    "# Visulazation of all series relationships with class as hue\n",
    "# ref: https://www.geeksforgeeks.org/exploratory-data-analysis-on-iris-dataset/\n",
    "sns.pairplot(data=df, hue='class', height=1.5)"
   ]
  },
  {
   "cell_type": "code",
   "execution_count": 39,
   "metadata": {},
   "outputs": [
    {
     "name": "stdout",
     "output_type": "stream",
     "text": [
      "Confidence interval for setosa is : 3.31-3.53\n"
     ]
    }
   ],
   "source": [
    "# Q1 - preparation. Construct a 95% confidence interval for means for sepal width for setosa\n",
    "\n",
    "\n",
    "setosa = df[df['class'] == 'Iris-setosa'] # creating separate dataframes for setosa\n",
    "alpha = 0.05\n",
    "n= 50\n",
    "\n",
    "sem = scs.sem(setosa['sepal_width'])    # Standard error\n",
    "mean = setosa['sepal_width'].mean()     # Average\n",
    "lower, upper = t.interval(confidence=1-alpha, df=n-1, loc=mean, scale=sem) # Calculating lower and higher limits of the confidence interval\n",
    "\n",
    "print(f'Confidence interval for setosa is : {lower:.2f}-{upper:.2f}') # printing confidence intervall"
   ]
  },
  {
   "cell_type": "code",
   "execution_count": 42,
   "metadata": {},
   "outputs": [
    {
     "name": "stdout",
     "output_type": "stream",
     "text": [
      "Confidence interval for Iris-setosa is : 3.31-3.53\n",
      "Confidence interval for Iris-versicolor is : 2.68-2.86\n",
      "Confidence interval for Iris-virginica is : 2.88-3.07\n"
     ]
    }
   ],
   "source": [
    "# Q1. Construct a 95% confidence interval for means for sepal width for each species\n",
    "# filtering used in the for loop for example for setosa: setosa = df[df['class'] == 'Iris-setosa']\n",
    "\n",
    "species_list = ['Iris-setosa', 'Iris-versicolor', 'Iris-virginica'] # list of species in dataframe\n",
    "alpha = 0.05  # confidence interval\n",
    "n= 50 # number of samples for each species\n",
    "\n",
    "for species in species_list:                                    # calculations for each species in the list\n",
    "    sem = scs.sem(df[df['class'] == species]['sepal_width'])    # Standard error for the specific species\n",
    "    mean = df[df['class'] == species]['sepal_width'].mean()     # Average for the specific species\n",
    "    lower, upper = t.interval(confidence=1-alpha, df=n-1, loc=mean, scale=sem) # Calculating lower and higher limits of the confidence interval\n",
    "    print(f'Confidence interval for {species} is : {lower:.2f}-{upper:.2f}') # Printing confidence intervall"
   ]
  },
  {
   "cell_type": "code",
   "execution_count": 80,
   "metadata": {},
   "outputs": [
    {
     "name": "stdout",
     "output_type": "stream",
     "text": [
      "Test of variances:\n",
      "f_statistic = 1.518, f_crit_49_49 = 0.622\n",
      "H0 can be discarded since f_statistica is larger than f_crit\n",
      "Conclusion: Variances for the two populations can not be assumed equal.\n",
      "\n",
      "Test of means:\n",
      "ttest_means = Ttest_indResult(statistic=5.629165259719801, pvalue=1.8661443873771216e-07)\n",
      "H0 hypothsis can be discarded, since the p-value from t-test (1.87e-07) is smaller than alpha (0.05)\n",
      "Colnclusion: The sepial lengths for virginica and versicolor are different.\n"
     ]
    }
   ],
   "source": [
    "# Q2. Is sepial length for Iris-virginica different from sepial length for Iris-versicolor?\n",
    "\n",
    "# Test is done in 2 steps:\n",
    "# 1. test if variances for the two populations are equal\n",
    "        # H_a: sigma_virginica != sigma_versicolor\n",
    "        # H_0: sigma_virginica = sigma_versicolor\n",
    "# 2. Hypothesis testing where:\n",
    "        # H_a: µ_virginica != µ_versicolor\n",
    "        # H_0: µ_virginica = µ_versicolor\n",
    "\n",
    "\n",
    "filt_virginica = (df['class'] == 'Iris-virginica')      # Filter to filter out Iris-virginica from full dataframe df\n",
    "filt_versicolor = (df['class'] == 'Iris-versicolor')    # Filter to filter out Iris-versicolor from full dataframe df\n",
    "n = 50                                                  # Both series contain 50 samples\n",
    "alpha = 0.05\n",
    "\n",
    "# Test of variances:\n",
    "f_statistic = df[filt_virginica][\"sepal_length\"].var()/df[filt_versicolor][\"sepal_length\"].var() # Statistica for samples: var_virginica/var_versicolor\n",
    "f_crit_49_49 = f.ppf(q=0.05, dfn=n-1, dfd=n-1) # Critical F value for 49,49 degrees of freedom\n",
    "print(f'Test of variances:\\n{f_statistic = :.3f}, {f_crit_49_49 = :.3f}') # printing results with 3 decimals\n",
    "print(f'H0 can be discarded since f_statistica is larger than f_crit')\n",
    "print(f'Conclusion: Variances for the two populations can not be assumed equal.\\n')\n",
    "\n",
    "# Test of means:\n",
    "# a and b are series sepal_lengt filtered out for each class of iris; False based on test of variances above; tow-sided since question was if different\n",
    "ttest_means = ttest_ind(a=df[filt_virginica][\"sepal_length\"], b=df[filt_versicolor][\"sepal_length\"], equal_var=False, alternative=\"two-sided\")\n",
    "print(f'Test of means:\\n{ttest_means = }')\n",
    "print(f'H0 hypothsis can be discarded, since the p-value from t-test (1.87e-07) is smaller than alpha (0.05)')\n",
    "print(f'Colnclusion: The sepial lengths for virginica and versicolor are different.')"
   ]
  }
 ],
 "metadata": {
  "kernelspec": {
   "display_name": "Statistics-Dorota-Bjoorn-0jCGml77",
   "language": "python",
   "name": "python3"
  },
  "language_info": {
   "codemirror_mode": {
    "name": "ipython",
    "version": 3
   },
   "file_extension": ".py",
   "mimetype": "text/x-python",
   "name": "python",
   "nbconvert_exporter": "python",
   "pygments_lexer": "ipython3",
   "version": "3.9.13"
  },
  "orig_nbformat": 4,
  "vscode": {
   "interpreter": {
    "hash": "1af2b1229665672e6d5fe549a58b2ddcd4de14e898d6c0f906bad1e2de8107c1"
   }
  }
 },
 "nbformat": 4,
 "nbformat_minor": 2
}
